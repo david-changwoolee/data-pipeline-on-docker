{
 "cells": [
  {
   "cell_type": "code",
   "execution_count": null,
   "id": "e87fceb6-cec6-4296-a226-78857a8687a6",
   "metadata": {},
   "outputs": [],
   "source": [
    "from pyspark.sql import SparkSession\n",
    "spark = SparkSession.builder.appName(\"HiveSpark\").master(\"local\").getOrCreate()\n",
    "sc = spark.sparkContext"
   ]
  },
  {
   "cell_type": "code",
   "execution_count": null,
   "id": "ccee8612-20ad-44f3-856a-2da4f2339200",
   "metadata": {},
   "outputs": [],
   "source": [
    "spark.sql(\"show databases\").show()"
   ]
  },
  {
   "cell_type": "code",
   "execution_count": null,
   "id": "bc578763-279d-420c-8291-bdc75a6ee499",
   "metadata": {},
   "outputs": [],
   "source": [
    "spark.sql(\"use default\")"
   ]
  },
  {
   "cell_type": "code",
   "execution_count": null,
   "id": "1aec8265-cb79-4d7f-b9ed-f9608fafb173",
   "metadata": {},
   "outputs": [],
   "source": [
    "spark.sql(\"create external table if not exists sample_table (id int, name string) row format delimited fields terminated by ',' stored as textfile location 'hdfs://hadoop:9000/user/hive/warehouse/spark_hive_Test/sample_table'\")"
   ]
  },
  {
   "cell_type": "code",
   "execution_count": null,
   "id": "6bf4dacf-7eb9-476d-bab4-93c7e954468c",
   "metadata": {},
   "outputs": [],
   "source": [
    "spark.sql(\"show tables\").show()"
   ]
  }
 ],
 "metadata": {
  "kernelspec": {
   "display_name": "Python 3 (ipykernel)",
   "language": "python",
   "name": "python3"
  },
  "language_info": {
   "codemirror_mode": {
    "name": "ipython",
    "version": 3
   },
   "file_extension": ".py",
   "mimetype": "text/x-python",
   "name": "python",
   "nbconvert_exporter": "python",
   "pygments_lexer": "ipython3",
   "version": "3.12.3"
  }
 },
 "nbformat": 4,
 "nbformat_minor": 5
}
