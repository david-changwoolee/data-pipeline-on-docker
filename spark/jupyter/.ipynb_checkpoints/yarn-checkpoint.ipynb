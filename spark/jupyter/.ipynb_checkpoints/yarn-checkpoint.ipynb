{
 "cells": [
  {
   "cell_type": "code",
   "execution_count": 2,
   "id": "4d14d5dc-7798-4208-89cb-1b12656bc27c",
   "metadata": {},
   "outputs": [
    {
     "name": "stderr",
     "output_type": "stream",
     "text": [
      "Setting default log level to \"WARN\".\n",
      "To adjust logging level use sc.setLogLevel(newLevel). For SparkR, use setLogLevel(newLevel).\n",
      "25/06/02 02:04:04 WARN NativeCodeLoader: Unable to load native-hadoop library for your platform... using builtin-java classes where applicable\n",
      "25/06/02 02:04:05 WARN Client: Neither spark.yarn.jars nor spark.yarn.archive is set, falling back to uploading libraries under SPARK_HOME.\n"
     ]
    }
   ],
   "source": [
    "from pyspark.sql import SparkSession\n",
    "spark = SparkSession.builder.appName(\"spark\").master(\"yarn\").getOrCreate()\n",
    "sc = spark.sparkContext"
   ]
  },
  {
   "cell_type": "code",
   "execution_count": 3,
   "id": "a57338db-0833-4246-8f34-3ca4abd6a23b",
   "metadata": {},
   "outputs": [],
   "source": [
    "students =[{'rollno':'001','name':'sravan','age':23,'height':5.79,'weight':67,'address':'guntur'},\n",
    "               {'rollno':'002','name':'ojaswi','age':16,'height':3.79,'weight':34,'address':'hyd'},\n",
    "               {'rollno':'003','name':'gnanesh chowdary','age':7,'height':2.79,'weight':17,'address':'patna'},\n",
    "               {'rollno':'004','name':'rohith','age':9,'height':3.69,'weight':28,'address':'hyd'},\n",
    "               {'rollno':'005','name':'sridevi','age':37,'height':5.59,'weight':54,'address':'hyd'}]\n",
    "\n",
    "df = spark.createDataFrame(students)"
   ]
  },
  {
   "cell_type": "code",
   "execution_count": 6,
   "id": "f1130cc2-6ead-4474-94d0-23b9ff220c34",
   "metadata": {},
   "outputs": [],
   "source": [
    "a = df.join(df, on='rollno', how='inner')"
   ]
  },
  {
   "cell_type": "code",
   "execution_count": 7,
   "id": "ce952fa5-48e2-4f01-908f-979a9c23e41a",
   "metadata": {},
   "outputs": [
    {
     "name": "stderr",
     "output_type": "stream",
     "text": [
      "[Stage 2:=============================>                             (1 + 1) / 2]"
     ]
    },
    {
     "name": "stdout",
     "output_type": "stream",
     "text": [
      "+------+-------+---+------+----------------+------+-------+---+------+----------------+------+\n",
      "|rollno|address|age|height|            name|weight|address|age|height|            name|weight|\n",
      "+------+-------+---+------+----------------+------+-------+---+------+----------------+------+\n",
      "|   001| guntur| 23|  5.79|          sravan|    67| guntur| 23|  5.79|          sravan|    67|\n",
      "|   002|    hyd| 16|  3.79|          ojaswi|    34|    hyd| 16|  3.79|          ojaswi|    34|\n",
      "|   003|  patna|  7|  2.79|gnanesh chowdary|    17|  patna|  7|  2.79|gnanesh chowdary|    17|\n",
      "|   004|    hyd|  9|  3.69|          rohith|    28|    hyd|  9|  3.69|          rohith|    28|\n",
      "|   005|    hyd| 37|  5.59|         sridevi|    54|    hyd| 37|  5.59|         sridevi|    54|\n",
      "+------+-------+---+------+----------------+------+-------+---+------+----------------+------+\n",
      "\n"
     ]
    },
    {
     "name": "stderr",
     "output_type": "stream",
     "text": [
      "                                                                                "
     ]
    }
   ],
   "source": [
    "a.show()"
   ]
  },
  {
   "cell_type": "code",
   "execution_count": null,
   "id": "9f34ab0d-c25e-4e51-b381-42cd78c94fdf",
   "metadata": {},
   "outputs": [],
   "source": []
  },
  {
   "cell_type": "code",
   "execution_count": null,
   "id": "fc4c1183-b4b7-4c55-a71e-9346e178d71f",
   "metadata": {},
   "outputs": [],
   "source": []
  },
  {
   "cell_type": "code",
   "execution_count": 4,
   "id": "fb52446a-1547-4ff8-8a90-82576b0d5eb9",
   "metadata": {},
   "outputs": [],
   "source": [
    "from pyspark.sql.functions import col\n",
    "from pyspark.sql.types import StringType,BooleanType,DateType\n",
    "df = df.withColumn(\"age\",col(\"age\").cast(StringType()))\\\n",
    ".withColumn(\"height\", col(\"height\").cast(StringType()))\\\n",
    ".withColumn(\"weight\", col(\"weight\").cast(StringType()))"
   ]
  },
  {
   "cell_type": "code",
   "execution_count": 5,
   "id": "c2061140-67b4-49e7-b6ff-6d262c63a2a8",
   "metadata": {},
   "outputs": [
    {
     "name": "stderr",
     "output_type": "stream",
     "text": [
      "                                                                                "
     ]
    },
    {
     "name": "stdout",
     "output_type": "stream",
     "text": [
      "+-------+---+------+----------------+------+------+\n",
      "|address|age|height|            name|rollno|weight|\n",
      "+-------+---+------+----------------+------+------+\n",
      "| guntur| 23|  5.79|          sravan|   001|    67|\n",
      "|    hyd| 16|  3.79|          ojaswi|   002|    34|\n",
      "|  patna|  7|  2.79|gnanesh chowdary|   003|    17|\n",
      "|    hyd|  9|  3.69|          rohith|   004|    28|\n",
      "|    hyd| 37|  5.59|         sridevi|   005|    54|\n",
      "+-------+---+------+----------------+------+------+\n",
      "\n"
     ]
    }
   ],
   "source": [
    "df.show()"
   ]
  },
  {
   "cell_type": "code",
   "execution_count": null,
   "id": "a56993d1-f37e-4ff4-a583-df56fe1ec7d3",
   "metadata": {},
   "outputs": [],
   "source": [
    "df.write.csv(\"/temp/helloworld\", sep='\\t', header=True, mode='overwrite')"
   ]
  }
 ],
 "metadata": {
  "kernelspec": {
   "display_name": "Python 3 (ipykernel)",
   "language": "python",
   "name": "python3"
  },
  "language_info": {
   "codemirror_mode": {
    "name": "ipython",
    "version": 3
   },
   "file_extension": ".py",
   "mimetype": "text/x-python",
   "name": "python",
   "nbconvert_exporter": "python",
   "pygments_lexer": "ipython3",
   "version": "3.12.3"
  }
 },
 "nbformat": 4,
 "nbformat_minor": 5
}
