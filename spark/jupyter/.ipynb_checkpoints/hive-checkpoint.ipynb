{
 "cells": [
  {
   "cell_type": "code",
   "execution_count": null,
   "id": "9793c8a1-b44c-4766-b410-d8bf4116ab82",
   "metadata": {},
   "outputs": [],
   "source": [
    "from pyspark.sql import SparkSession\n",
    "\n",
    "spark = SparkSession.builder \\\n",
    "      .master(\"yarn\") \\\n",
    "      .appName(\"HiveSpark\") \\\n",
    "      .config(\"spark.driver.memory\", \"1g\") \\\n",
    "      .config(\"spark.driver.cores\", \"1\") \\\n",
    "      .config(\"spark.executor.memory\", \"1g\") \\\n",
    "      .config(\"spark.executor.cores\", \"1\") \\\n",
    "      .config(\"spark.executor.instances\", \"1\") \\\n",
    "      .config(\"spark.yarn.queue\", \"batch\") \\\n",
    "      .config(\"spark.jars.packages\", \"org.apache.spark:spark-hive_2.12:3.5.5\") \\\n",
    "      .enableHiveSupport() \\\n",
    "      .getOrCreate()\n",
    "\n",
    "sc = spark.sparkContext"
   ]
  },
  {
   "cell_type": "code",
   "execution_count": null,
   "id": "1eb2b4c1-8232-4125-82fd-22ee8b1630e3",
   "metadata": {},
   "outputs": [],
   "source": [
    "spark.sql(\"show databases\").show()"
   ]
  },
  {
   "cell_type": "code",
   "execution_count": null,
   "id": "25ae35a6-c491-497b-be96-80567add47b0",
   "metadata": {},
   "outputs": [],
   "source": [
    "spark.sql(\"use default\")"
   ]
  },
  {
   "cell_type": "code",
   "execution_count": null,
   "id": "5eb400f1-6619-4c85-bb4c-4dc850106935",
   "metadata": {},
   "outputs": [],
   "source": [
    "spark.sql(\"create external table if not exists sample_table (id int, name string) row format delimited fields terminated by ',' stored as textfile location 'hdfs://hadoop:9000/user/hive/warehouse/spark_hive_test/sample_table'\")"
   ]
  },
  {
   "cell_type": "code",
   "execution_count": null,
   "id": "6bf4dacf-7eb9-476d-bab4-93c7e954468c",
   "metadata": {},
   "outputs": [],
   "source": [
    "spark.sql(\"show tables\").show()"
   ]
  }
 ],
 "metadata": {
  "kernelspec": {
   "display_name": "Python 3 (ipykernel)",
   "language": "python",
   "name": "python3"
  },
  "language_info": {
   "codemirror_mode": {
    "name": "ipython",
    "version": 3
   },
   "file_extension": ".py",
   "mimetype": "text/x-python",
   "name": "python",
   "nbconvert_exporter": "python",
   "pygments_lexer": "ipython3",
   "version": "3.12.3"
  }
 },
 "nbformat": 4,
 "nbformat_minor": 5
}
