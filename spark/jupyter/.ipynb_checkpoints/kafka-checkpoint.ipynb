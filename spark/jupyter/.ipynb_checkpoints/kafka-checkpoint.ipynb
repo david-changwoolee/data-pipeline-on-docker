{
 "cells": [
  {
   "cell_type": "code",
   "execution_count": null,
   "id": "12f9331c-a91b-47ff-ad0f-0baa78a01780",
   "metadata": {},
   "outputs": [],
   "source": [
    "from pyspark.sql import SparkSession\n",
    "spark = SparkSession.builder \\\n",
    "    .appName(\"KafkaSpark\") \\\n",
    "    .config(\"spark.jars.packages\", \"org.apache.spark:spark-sql-kafka-0-10_2.12:3.5.5,org.apache.kafka:kafka-clients:3.5.0\") \\\n",
    "    .master(\"local\") \\\n",
    "    .getOrCreate()\n",
    "sc = spark.sparkContext"
   ]
  },
  {
   "cell_type": "code",
   "execution_count": 2,
   "id": "933e6442-5556-4ab4-953f-a5be4b51898d",
   "metadata": {},
   "outputs": [],
   "source": [
    "kafka_options = {\n",
    "    \"kafka.bootstrap.servers\": \"kafka:9092\",\n",
    "    \"subscribe\": \"test-topic\",\n",
    "    \"startingOffsets\": \"earliest\",\n",
    "    \"endingOffsets\": \"latest\",\n",
    "    \"failOnDataLoss\": \"false\"\n",
    "}"
   ]
  },
  {
   "cell_type": "code",
   "execution_count": 3,
   "id": "d828ae89-a82a-444b-9ecf-903b9fd30a6f",
   "metadata": {},
   "outputs": [],
   "source": [
    "df = spark.read \\\n",
    "    .format(\"kafka\") \\\n",
    "    .options(**kafka_options) \\\n",
    "    .load()"
   ]
  },
  {
   "cell_type": "code",
   "execution_count": null,
   "id": "1a95f3b7-6d93-4733-a955-65be3ac5d1a7",
   "metadata": {},
   "outputs": [],
   "source": [
    "df.show()"
   ]
  }
 ],
 "metadata": {
  "kernelspec": {
   "display_name": "Python 3 (ipykernel)",
   "language": "python",
   "name": "python3"
  },
  "language_info": {
   "codemirror_mode": {
    "name": "ipython",
    "version": 3
   },
   "file_extension": ".py",
   "mimetype": "text/x-python",
   "name": "python",
   "nbconvert_exporter": "python",
   "pygments_lexer": "ipython3",
   "version": "3.12.3"
  }
 },
 "nbformat": 4,
 "nbformat_minor": 5
}
