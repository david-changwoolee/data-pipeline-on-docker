{
 "cells": [
  {
   "cell_type": "code",
   "execution_count": 5,
   "id": "729129ce-afa5-4e3d-9fb7-3489b38dbda2",
   "metadata": {},
   "outputs": [],
   "source": [
    "from pyspark.sql import SparkSession\n",
    "spark = SparkSession.builder \\\n",
    "    .appName(\"KafkaSpark\") \\\n",
    "    .config(\"spark.jars.packages\", \"org.apache.spark:spark-sql-kafka-0-10_2.12:3.5.5,org.apache.kafka:kafka-clients:3.5.0\") \\\n",
    "    .master(\"local\") \\\n",
    "    .getOrCreate()\n",
    "sc = spark.sparkContext"
   ]
  },
  {
   "cell_type": "code",
   "execution_count": 6,
   "id": "933e6442-5556-4ab4-953f-a5be4b51898d",
   "metadata": {},
   "outputs": [],
   "source": [
    "kafka_options = {\n",
    "    \"kafka.bootstrap.servers\": \"kafka:9092\",\n",
    "    \"subscribe\": \"test-topic\",\n",
    "    \"startingOffsets\": \"earliest\",\n",
    "    \"endingOffsets\": \"latest\",\n",
    "    \"failOnDataLoss\": \"false\"\n",
    "}"
   ]
  },
  {
   "cell_type": "code",
   "execution_count": 7,
   "id": "d828ae89-a82a-444b-9ecf-903b9fd30a6f",
   "metadata": {},
   "outputs": [],
   "source": [
    "df = spark.read \\\n",
    "    .format(\"kafka\") \\\n",
    "    .options(**kafka_options) \\\n",
    "    .load()"
   ]
  },
  {
   "cell_type": "code",
   "execution_count": null,
   "id": "b49d6237-10b6-47f3-ab9b-89d25ef98b80",
   "metadata": {},
   "outputs": [],
   "source": [
    "df.show()"
   ]
  }
 ],
 "metadata": {
  "kernelspec": {
   "display_name": "Python 3 (ipykernel)",
   "language": "python",
   "name": "python3"
  },
  "language_info": {
   "codemirror_mode": {
    "name": "ipython",
    "version": 3
   },
   "file_extension": ".py",
   "mimetype": "text/x-python",
   "name": "python",
   "nbconvert_exporter": "python",
   "pygments_lexer": "ipython3",
   "version": "3.12.3"
  }
 },
 "nbformat": 4,
 "nbformat_minor": 5
}
