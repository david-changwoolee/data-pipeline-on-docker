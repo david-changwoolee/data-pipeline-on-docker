{
 "cells": [
  {
   "cell_type": "code",
   "execution_count": null,
   "id": "41e61985-e8b1-4108-820f-d26e9baaa79f",
   "metadata": {},
   "outputs": [],
   "source": [
    "from pyspark.sql import SparkSession\n",
    "from pyspark.sql.types import StructType, StructField, StringType, BooleanType, IntegerType\n",
    "from pyspark.sql.functions import from_json, col, lit, from_unixtime\n",
    "from pyspark.sql.functions import year, month, dayofmonth, hour"
   ]
  },
  {
   "cell_type": "code",
   "execution_count": null,
   "id": "c1983e94-e00e-4541-bff8-8127a54b8c57",
   "metadata": {},
   "outputs": [],
   "source": [
    "spark = SparkSession.builder \\\n",
    "    .appName(\"stream_wiki_from_kafka_to_hdfs\") \\\n",
    "    .master(\"yarn\") \\\n",
    "    .config(\"spark.driver.memory\", \"1g\") \\\n",
    "    .config(\"spark.driver.cores\", \"1\") \\\n",
    "    .config(\"spark.executor.memory\", \"1g\") \\\n",
    "    .config(\"spark.executor.cores\", \"1\") \\\n",
    "    .config(\"spark.executor.instances\", \"1\") \\\n",
    "    .config(\"spark.yarn.queue\", \"streaming\") \\\n",
    "    .config(\"spark.jars.packages\", \"org.apache.spark:spark-sql-kafka-0-10_2.12:3.5.5,org.apache.kafka:kafka-clients:3.9.1\") \\\n",
    "    .getOrCreate()\n",
    "spark.sparkContext.setLogLevel(\"WARN\")"
   ]
  },
  {
   "cell_type": "code",
   "execution_count": null,
   "id": "8d4a9a95-e048-41a6-a743-0954e5f36124",
   "metadata": {},
   "outputs": [],
   "source": [
    "kafka_options = {\n",
    "    \"kafka.bootstrap.servers\": \"kafka:9092\",\n",
    "    \"subscribe\": \"wiki\",\n",
    "    \"startingOffsets\": \"latest\",\n",
    "    \"kafka.group.id\": \"wiki_group\"\n",
    "}"
   ]
  },
  {
   "cell_type": "code",
   "execution_count": null,
   "id": "bee9989b-78e5-4490-93d3-61fb3d5e2c23",
   "metadata": {},
   "outputs": [],
   "source": [
    "df = spark.readStream \\\n",
    "    .format(\"kafka\") \\\n",
    "    .options(**kafka_options) \\\n",
    "    .load()"
   ]
  },
  {
   "cell_type": "code",
   "execution_count": null,
   "id": "a756650f-0435-489b-b510-d67dcaa7b42e",
   "metadata": {},
   "outputs": [],
   "source": [
    "schema = StructType([\n",
    "    StructField(\"id\", StringType()),\n",
    "    StructField(\"wiki\", StringType()),\n",
    "    StructField(\"timestamp\", IntegerType()),\n",
    "    StructField(\"bot\", BooleanType())\n",
    "])\n",
    "parsed_df = df.selectExpr(\"CAST(key AS STRING)\", \"CAST(value AS STRING)\")\\\n",
    "    .select(from_json(col(\"value\"), schema).alias(\"data\"))"
   ]
  },
  {
   "cell_type": "code",
   "execution_count": null,
   "id": "ec59a335-f379-451e-8ed2-a33ab7845d6e",
   "metadata": {},
   "outputs": [],
   "source": [
    "final_df = parsed_df.select(\n",
    "        col(\"data.id\").alias(\"id\"),\n",
    "        col(\"data.wiki\").alias(\"wiki\"),\n",
    "        col(\"data.timestamp\").alias(\"timestamp\"),\n",
    "        col(\"data.bot\").alias(\"bot\")) \\\n",
    "    .withColumn(\"timestamp\", from_unixtime(col(\"timestamp\"))) \\\n",
    "    .withColumn(\"year\", year(col(\"timestamp\"))) \\\n",
    "    .withColumn(\"month\", month(col(\"timestamp\"))) \\\n",
    "    .withColumn(\"day\", dayofmonth(col(\"timestamp\"))) \\\n",
    "    .withColumn(\"hour\", hour(col(\"timestamp\")))"
   ]
  },
  {
   "cell_type": "code",
   "execution_count": null,
   "id": "f5626c75-6542-44d2-a53a-55428e1c6670",
   "metadata": {},
   "outputs": [],
   "source": [
    "query = final_df.writeStream \\\n",
    "    .outputMode(\"append\") \\\n",
    "    .format(\"parquet\") \\\n",
    "    .option(\"path\", \"/datalake/data/wiki\") \\\n",
    "    .option(\"checkpointLocation\", \"/datalake/checkpoint/wiki\") \\\n",
    "    .partitionBy(\"year\", \"month\", \"day\", \"hour\") \\\n",
    "    .trigger(processingTime=\"5 seconds\") \\\n",
    "    .start()\n",
    "query.awaitTermination()"
   ]
  }
 ],
 "metadata": {
  "kernelspec": {
   "display_name": "Python 3 (ipykernel)",
   "language": "python",
   "name": "python3"
  },
  "language_info": {
   "codemirror_mode": {
    "name": "ipython",
    "version": 3
   },
   "file_extension": ".py",
   "mimetype": "text/x-python",
   "name": "python",
   "nbconvert_exporter": "python",
   "pygments_lexer": "ipython3",
   "version": "3.12.3"
  }
 },
 "nbformat": 4,
 "nbformat_minor": 5
}
