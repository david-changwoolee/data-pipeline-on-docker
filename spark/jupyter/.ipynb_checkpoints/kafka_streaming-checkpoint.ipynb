{
 "cells": [
  {
   "cell_type": "code",
   "execution_count": null,
   "id": "e63a3d87-fd64-43ee-88a9-a8b857ff7f2c",
   "metadata": {},
   "outputs": [],
   "source": [
    "from pyspark.sql import SparkSession\n",
    "from pyspark.sql.types import StructType, StructField, StringType, BooleanType, IntegerType\n",
    "from pyspark.sql.functions import from_json, col, lit, from_unixtime\n",
    "from pyspark.sql.functions import year, month, dayofmonth, hour"
   ]
  },
  {
   "cell_type": "code",
   "execution_count": null,
   "id": "58177c86-a60e-481d-9718-b37592689e6b",
   "metadata": {},
   "outputs": [],
   "source": [
    "spark = SparkSession.builder \\\n",
    "    .appName(\"KafkaSpark\") \\\n",
    "    .config(\"spark.jars.packages\", \"org.apache.spark:spark-sql-kafka-0-10_2.12:3.5.5,org.apache.kafka:kafka-clients:3.9.1\") \\\n",
    "    .master(\"yarn\") \\\n",
    "    .getOrCreate()\n",
    "spark.sparkContext.setLogLevel(\"WARN\")"
   ]
  },
  {
   "cell_type": "code",
   "execution_count": null,
   "id": "d5009055-a9e7-456f-aa90-13ab4a6e36a0",
   "metadata": {},
   "outputs": [],
   "source": [
    "kafka_options = {\n",
    "    \"kafka.bootstrap.servers\": \"kafka:9092\",\n",
    "    \"subscribe\": \"wiki\",\n",
    "    \"startingOffsets\": \"latest\",\n",
    "    \"kafka.group.id\": \"wiki_group\"\n",
    "}"
   ]
  },
  {
   "cell_type": "code",
   "execution_count": null,
   "id": "891f12e2-4304-418f-bf71-fbc0dc72af49",
   "metadata": {},
   "outputs": [],
   "source": [
    "df = spark.readStream \\\n",
    "    .format(\"kafka\") \\\n",
    "    .options(**kafka_options) \\\n",
    "    .load()"
   ]
  },
  {
   "cell_type": "code",
   "execution_count": null,
   "id": "648c0951-dffb-4bd4-b1cf-2b232ce3a755",
   "metadata": {},
   "outputs": [],
   "source": [
    "schema = StructType([\n",
    "    StructField(\"id\", StringType()),\n",
    "    StructField(\"wiki\", StringType()),\n",
    "    StructField(\"timestamp\", IntegerType()),\n",
    "    StructField(\"bot\", BooleanType())\n",
    "])\n",
    "parsed_df = df.selectExpr(\"CAST(key AS STRING)\", \"CAST(value AS STRING)\")\\\n",
    "    .select(from_json(col(\"value\"), schema).alias(\"data\"))"
   ]
  },
  {
   "cell_type": "code",
   "execution_count": null,
   "id": "713d9ed3-f268-48fc-b917-cd64135d1b61",
   "metadata": {},
   "outputs": [],
   "source": [
    "final_df = parsed_df.select(\n",
    "        col(\"data.id\").alias(\"id\"),\n",
    "        col(\"data.wiki\").alias(\"wiki\"),\n",
    "        col(\"data.timestamp\").alias(\"timestamp\"),\n",
    "        col(\"data.bot\").alias(\"bot\")) \\\n",
    "    .withColumn(\"timestamp\", from_unixtime(col(\"timestamp\"))) \\\n",
    "    .withColumn(\"year\", year(col(\"timestamp\"))) \\\n",
    "    .withColumn(\"month\", month(col(\"timestamp\"))) \\\n",
    "    .withColumn(\"day\", dayofmonth(col(\"timestamp\"))) \\\n",
    "    .withColumn(\"hour\", hour(col(\"timestamp\")))"
   ]
  },
  {
   "cell_type": "code",
   "execution_count": null,
   "id": "19998514-fbc9-4042-9c89-a32913767083",
   "metadata": {},
   "outputs": [],
   "source": [
    "query = final_df.writeStream \\\n",
    "    .outputMode(\"append\") \\\n",
    "    .format(\"parquet\") \\\n",
    "    .option(\"path\", \"/datalake/data/wiki\") \\\n",
    "    .option(\"checkpointLocation\", \"/datalake/checkpoint/wiki\") \\\n",
    "    .partitionBy(\"year\", \"month\", \"day\", \"hour\") \\\n",
    "    .trigger(processingTime=\"5 seconds\") \\\n",
    "    .start()\n",
    "query.awaitTermination()"
   ]
  }
 ],
 "metadata": {
  "kernelspec": {
   "display_name": "Python 3 (ipykernel)",
   "language": "python",
   "name": "python3"
  },
  "language_info": {
   "codemirror_mode": {
    "name": "ipython",
    "version": 3
   },
   "file_extension": ".py",
   "mimetype": "text/x-python",
   "name": "python",
   "nbconvert_exporter": "python",
   "pygments_lexer": "ipython3",
   "version": "3.12.3"
  }
 },
 "nbformat": 4,
 "nbformat_minor": 5
}
