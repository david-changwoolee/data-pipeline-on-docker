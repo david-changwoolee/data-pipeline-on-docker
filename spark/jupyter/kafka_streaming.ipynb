{
 "cells": [
  {
   "cell_type": "code",
   "execution_count": null,
   "id": "099596a8-8cc7-4934-ae3d-2781fc72299e",
   "metadata": {},
   "outputs": [],
   "source": [
    "from pyspark.sql import SparkSession\n",
    "from pyspark.sql.types import StructType, StructField, StringType, BooleanType, IntegerType\n",
    "from pyspark.sql.functions import from_json, col, lit, concat, from_unixtime\n",
    "from pyspark.sql.functions import year, month, dayofmonth, hour, lpad"
   ]
  },
  {
   "cell_type": "code",
   "execution_count": null,
   "id": "ddc62ac1-1758-4d03-8f73-7b0e316982aa",
   "metadata": {},
   "outputs": [],
   "source": [
    "spark = SparkSession.builder \\\n",
    "    .appName(\"stream_wiki_from_kafka_to_hdfs\") \\\n",
    "    .master(\"yarn\") \\\n",
    "    .config(\"spark.driver.memory\", \"1g\") \\\n",
    "    .config(\"spark.driver.cores\", \"1\") \\\n",
    "    .config(\"spark.executor.memory\", \"1g\") \\\n",
    "    .config(\"spark.executor.cores\", \"1\") \\\n",
    "    .config(\"spark.executor.instances\", \"1\") \\\n",
    "    .config(\"spark.yarn.queue\", \"streaming\") \\\n",
    "    .config(\"spark.jars.packages\", \"org.apache.spark:spark-sql-kafka-0-10_2.12:3.5.5,org.apache.kafka:kafka-clients:3.9.1\") \\\n",
    "    .getOrCreate()\n",
    "spark.sparkContext.setLogLevel(\"WARN\")"
   ]
  },
  {
   "cell_type": "code",
   "execution_count": null,
   "id": "ce506099-2bb9-4c36-a68c-897ca3516a0b",
   "metadata": {},
   "outputs": [],
   "source": [
    "kafka_options = {\n",
    "    \"kafka.bootstrap.servers\": \"kafka:9092\",\n",
    "    \"subscribe\": \"wiki\",\n",
    "    \"startingOffsets\": \"latest\",\n",
    "    \"kafka.group.id\": \"wiki_group\"\n",
    "}"
   ]
  },
  {
   "cell_type": "code",
   "execution_count": null,
   "id": "bb6c96bb-49af-4acc-9289-6b70a2768e65",
   "metadata": {},
   "outputs": [],
   "source": [
    "df = spark.readStream \\\n",
    "    .format(\"kafka\") \\\n",
    "    .options(**kafka_options) \\\n",
    "    .load()"
   ]
  },
  {
   "cell_type": "code",
   "execution_count": null,
   "id": "e9a684e1-d020-4abd-bc08-c14abcf5c746",
   "metadata": {},
   "outputs": [],
   "source": [
    "schema = StructType([\n",
    "    StructField(\"id\", StringType()),\n",
    "    StructField(\"wiki\", StringType()),\n",
    "    StructField(\"timestamp\", IntegerType()),\n",
    "    StructField(\"bot\", BooleanType())\n",
    "])\n",
    "parsed_df = df.selectExpr(\"CAST(key AS STRING)\", \"CAST(value AS STRING)\")\\\n",
    "    .select(from_json(col(\"value\"), schema).alias(\"data\"))"
   ]
  },
  {
   "cell_type": "code",
   "execution_count": null,
   "id": "6e96b053-d778-45ca-a0d7-d02e7f6976f2",
   "metadata": {},
   "outputs": [],
   "source": [
    "final_df = parsed_df.select(\n",
    "        col(\"data.id\").alias(\"id\"),\n",
    "        col(\"data.wiki\").alias(\"wiki\"),\n",
    "        col(\"data.timestamp\").alias(\"timestamp\"),\n",
    "        col(\"data.bot\").alias(\"bot\")) \\\n",
    "    .withColumn(\"timestamp\", from_unixtime(col(\"timestamp\"))) \\\n",
    "    .withColumn(\"date\", concat(\n",
    "        lpad(year(col(\"timestamp\")), 4, \"0\"), \n",
    "        lpad(month(col(\"timestamp\")), 2, \"0\"), \n",
    "        lpad(dayofmonth(col(\"timestamp\")), 2, \"0\"),\n",
    "    )) \\\n",
    "    .withColumn(\"hour\", lpad(hour(col(\"timestamp\")), 2, \"0\"))"
   ]
  },
  {
   "cell_type": "code",
   "execution_count": null,
   "id": "51d3f688-aade-46fd-b781-923e552d3c73",
   "metadata": {},
   "outputs": [],
   "source": [
    "query = final_df.writeStream \\\n",
    "    .outputMode(\"append\") \\\n",
    "    .format(\"parquet\") \\\n",
    "    .option(\"path\", \"/datalake/data/wiki\") \\\n",
    "    .option(\"checkpointLocation\", \"/datalake/checkpoint/wiki\") \\\n",
    "    .partitionBy(\"date\", \"hour\") \\\n",
    "    .trigger(processingTime=\"5 seconds\") \\\n",
    "    .start()\n",
    "query.awaitTermination()"
   ]
  }
 ],
 "metadata": {
  "kernelspec": {
   "display_name": "Python 3 (ipykernel)",
   "language": "python",
   "name": "python3"
  },
  "language_info": {
   "codemirror_mode": {
    "name": "ipython",
    "version": 3
   },
   "file_extension": ".py",
   "mimetype": "text/x-python",
   "name": "python",
   "nbconvert_exporter": "python",
   "pygments_lexer": "ipython3",
   "version": "3.12.3"
  }
 },
 "nbformat": 4,
 "nbformat_minor": 5
}
